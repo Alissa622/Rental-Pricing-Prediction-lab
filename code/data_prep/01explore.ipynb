{
 "cells": [
  {
   "cell_type": "markdown",
   "metadata": {},
   "source": [
    "## Data Exploration\n",
    "\n",
    "Before cleaning our dataset, let's explore the features that our dataset contains, as well as visuals."
   ]
  },
  {
   "cell_type": "code",
   "execution_count": 12,
   "metadata": {},
   "outputs": [
    {
     "ename": "ModuleNotFoundError",
     "evalue": "No module named 'pandas'",
     "output_type": "error",
     "traceback": [
      "\u001b[0;31m---------------------------------------------------------------------------\u001b[0m",
      "\u001b[0;31mModuleNotFoundError\u001b[0m                       Traceback (most recent call last)",
      "\u001b[1;32m/Users/afranceschi.fellow/Downloads/rental-pricing-explore-normal/code/data_prep/01explore.ipynb Cell 2\u001b[0m line \u001b[0;36m3\n\u001b[1;32m      <a href='vscode-notebook-cell:/Users/afranceschi.fellow/Downloads/rental-pricing-explore-normal/code/data_prep/01explore.ipynb#W1sZmlsZQ%3D%3D?line=0'>1</a>\u001b[0m \u001b[39m# import required modules for this project\u001b[39;00m\n\u001b[0;32m----> <a href='vscode-notebook-cell:/Users/afranceschi.fellow/Downloads/rental-pricing-explore-normal/code/data_prep/01explore.ipynb#W1sZmlsZQ%3D%3D?line=2'>3</a>\u001b[0m \u001b[39mimport\u001b[39;00m \u001b[39mpandas\u001b[39;00m \u001b[39mas\u001b[39;00m \u001b[39mpd\u001b[39;00m\n\u001b[1;32m      <a href='vscode-notebook-cell:/Users/afranceschi.fellow/Downloads/rental-pricing-explore-normal/code/data_prep/01explore.ipynb#W1sZmlsZQ%3D%3D?line=3'>4</a>\u001b[0m \u001b[39mimport\u001b[39;00m \u001b[39mnumpy\u001b[39;00m \u001b[39mas\u001b[39;00m \u001b[39mnp\u001b[39;00m\n\u001b[1;32m      <a href='vscode-notebook-cell:/Users/afranceschi.fellow/Downloads/rental-pricing-explore-normal/code/data_prep/01explore.ipynb#W1sZmlsZQ%3D%3D?line=5'>6</a>\u001b[0m \u001b[39mimport\u001b[39;00m \u001b[39mmatplotlib\u001b[39;00m\u001b[39m.\u001b[39;00m\u001b[39mpyplot\u001b[39;00m \u001b[39mas\u001b[39;00m \u001b[39mplt\u001b[39;00m\n",
      "\u001b[0;31mModuleNotFoundError\u001b[0m: No module named 'pandas'"
     ]
    }
   ],
   "source": [
    "# import required modules for this project\n",
    "\n",
    "import pandas as pd\n",
    "import numpy as np\n",
    "\n",
    "import matplotlib.pyplot as plt\n",
    "import seaborn as sns"
   ]
  },
  {
   "cell_type": "code",
   "execution_count": 10,
   "metadata": {},
   "outputs": [
    {
     "ename": "NameError",
     "evalue": "name 'pd' is not defined",
     "output_type": "error",
     "traceback": [
      "\u001b[0;31m---------------------------------------------------------------------------\u001b[0m",
      "\u001b[0;31mNameError\u001b[0m                                 Traceback (most recent call last)",
      "\u001b[1;32m/Users/afranceschi.fellow/Downloads/rental-pricing-explore-normal/code/data_prep/01explore.ipynb Cell 3\u001b[0m line \u001b[0;36m2\n\u001b[1;32m      <a href='vscode-notebook-cell:/Users/afranceschi.fellow/Downloads/rental-pricing-explore-normal/code/data_prep/01explore.ipynb#W2sZmlsZQ%3D%3D?line=0'>1</a>\u001b[0m \u001b[39m# load in required dataset \u001b[39;00m\n\u001b[0;32m----> <a href='vscode-notebook-cell:/Users/afranceschi.fellow/Downloads/rental-pricing-explore-normal/code/data_prep/01explore.ipynb#W2sZmlsZQ%3D%3D?line=1'>2</a>\u001b[0m df \u001b[39m=\u001b[39m pd\u001b[39m.\u001b[39mread_excel(\u001b[39m\"\u001b[39m\u001b[39m../../data/raw/realestate.xlsx\u001b[39m\u001b[39m\"\u001b[39m)\n\u001b[1;32m      <a href='vscode-notebook-cell:/Users/afranceschi.fellow/Downloads/rental-pricing-explore-normal/code/data_prep/01explore.ipynb#W2sZmlsZQ%3D%3D?line=3'>4</a>\u001b[0m \u001b[39m# TODO: print out the first 5 rows of this dataset \u001b[39;00m\n\u001b[1;32m      <a href='vscode-notebook-cell:/Users/afranceschi.fellow/Downloads/rental-pricing-explore-normal/code/data_prep/01explore.ipynb#W2sZmlsZQ%3D%3D?line=4'>5</a>\u001b[0m \u001b[39m# documentation: https://pandas.pydata.org/docs/reference/api/pandas.DataFrame.head.html \u001b[39;00m\n\u001b[1;32m      <a href='vscode-notebook-cell:/Users/afranceschi.fellow/Downloads/rental-pricing-explore-normal/code/data_prep/01explore.ipynb#W2sZmlsZQ%3D%3D?line=5'>6</a>\u001b[0m \u001b[39m.\u001b[39m\u001b[39m.\u001b[39m\u001b[39m.\u001b[39m\n",
      "\u001b[0;31mNameError\u001b[0m: name 'pd' is not defined"
     ]
    }
   ],
   "source": [
    "# load in required dataset \n",
    "df = pd.read_excel(\"../../data/raw/realestate.xlsx\")\n",
    "\n",
    "# TODO: print out the first 5 rows of this dataset \n",
    "# documentation: https://pandas.pydata.org/docs/reference/api/pandas.DataFrame.head.html \n",
    "...\n"
   ]
  },
  {
   "cell_type": "code",
   "execution_count": null,
   "metadata": {},
   "outputs": [],
   "source": [
    "# find out the datatypes of each column\n",
    "df.info()"
   ]
  },
  {
   "cell_type": "code",
   "execution_count": null,
   "metadata": {},
   "outputs": [],
   "source": [
    "# print out the summary statistics (mean, median, max, min, count) of all numeric columns\n",
    "df.describe()"
   ]
  },
  {
   "cell_type": "markdown",
   "metadata": {},
   "source": [
    "# Univariate Exploratory Analysis\n",
    "\n",
    "Let's explore the distribution of single variables in this dataset."
   ]
  },
  {
   "cell_type": "code",
   "execution_count": null,
   "metadata": {},
   "outputs": [],
   "source": [
    "# histograms\n",
    "sns.histplot(df[\"Y house price of unit area\"])\n",
    "plt.show()"
   ]
  },
  {
   "cell_type": "code",
   "execution_count": null,
   "metadata": {},
   "outputs": [],
   "source": [
    "sns.boxplot(df[\"Y house price of unit area\"])\n",
    "plt.show()"
   ]
  },
  {
   "cell_type": "code",
   "execution_count": null,
   "metadata": {},
   "outputs": [],
   "source": [
    "# TODO : plot histogram of \"X2 house age\" using sns here\n",
    "# documentation: https://seaborn.pydata.org/generated/seaborn.histplot.html\n",
    "..."
   ]
  },
  {
   "cell_type": "code",
   "execution_count": null,
   "metadata": {},
   "outputs": [],
   "source": [
    "# TODO : plot boxplot of \"X2 house age\" using sns here\n",
    "# documentation: https://seaborn.pydata.org/generated/seaborn.boxplot.html\n",
    "..."
   ]
  },
  {
   "cell_type": "code",
   "execution_count": null,
   "metadata": {},
   "outputs": [],
   "source": [
    "# TODO : plot histogram of \"X4 number of convenience stores\" using sns here\n",
    "# documentation: https://seaborn.pydata.org/generated/seaborn.histplot.html\n",
    "..."
   ]
  },
  {
   "cell_type": "code",
   "execution_count": null,
   "metadata": {},
   "outputs": [],
   "source": [
    "# TODO : plot boxplot of \"X4 number of convenience stores\" using sns here\n",
    "# documentation: https://seaborn.pydata.org/generated/seaborn.boxplot.html\n",
    "..."
   ]
  },
  {
   "cell_type": "markdown",
   "metadata": {},
   "source": [
    "# Bivariate Exploratory Analysis\n",
    "\n",
    "Let's explore the relationship of multiple variables in this dataset."
   ]
  },
  {
   "cell_type": "code",
   "execution_count": null,
   "metadata": {},
   "outputs": [],
   "source": [
    "# scatter plot of house age & price of unit area\n",
    "sns.scatterplot(data=df, x=\"X2 house age\", y=\"Y house price of unit area\")\n",
    "plt.show()"
   ]
  },
  {
   "cell_type": "code",
   "execution_count": null,
   "metadata": {},
   "outputs": [],
   "source": [
    "# TODO : plot scatter plot of \"X4 number of convenience stores\" and \"Y house price of unit area\"\n",
    "# documentation: https://seaborn.pydata.org/generated/seaborn.scatterplot.html\n",
    "..."
   ]
  },
  {
   "cell_type": "code",
   "execution_count": null,
   "metadata": {},
   "outputs": [],
   "source": [
    "# plot a correlation heat map of selected columns in the dataset\n",
    "selected_cols = [\"X2 house age\", \"X4 number of convenience stores\", \"Y house price of unit area\"]\n",
    "\n",
    "mask = np.triu(np.ones_like(df[selected_cols].corr(), dtype=np.bool))\n",
    "\n",
    "sns.heatmap(df[selected_cols].corr(), annot=True, mask=mask)\n",
    "plt.show()"
   ]
  }
 ],
 "metadata": {
  "kernelspec": {
   "display_name": "Python 3",
   "language": "python",
   "name": "python3"
  },
  "language_info": {
   "codemirror_mode": {
    "name": "ipython",
    "version": 3
   },
   "file_extension": ".py",
   "mimetype": "text/x-python",
   "name": "python",
   "nbconvert_exporter": "python",
   "pygments_lexer": "ipython3",
   "version": "3.9.6"
  },
  "orig_nbformat": 4
 },
 "nbformat": 4,
 "nbformat_minor": 2
}
